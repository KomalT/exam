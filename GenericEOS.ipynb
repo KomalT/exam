{
 "metadata": {
  "kernelspec": {
   "display_name": "Python 2",
   "language": "python",
   "name": "python2"
  },
  "language_info": {
   "codemirror_mode": {
    "name": "ipython",
    "version": 2
   },
   "file_extension": ".py",
   "mimetype": "text/x-python",
   "name": "python",
   "nbconvert_exporter": "python",
   "pygments_lexer": "ipython2",
   "version": "2.7.9"
  },
  "name": "",
  "signature": "sha256:a1c1d261fe3dff2ea5b016d0f0658708adae469119d41d3b4f7544c0bc58d08f"
 },
 "nbformat": 3,
 "nbformat_minor": 0,
 "worksheets": [
  {
   "cells": [
    {
     "cell_type": "heading",
     "level": 1,
     "metadata": {},
     "source": [
      "Cubic EOS "
     ]
    },
    {
     "cell_type": "code",
     "collapsed": false,
     "input": [
      "from sympy import init_session\n",
      "init_session()"
     ],
     "language": "python",
     "metadata": {},
     "outputs": [
      {
       "output_type": "stream",
       "stream": "stdout",
       "text": [
        "IPython console for SymPy 0.7.6 (Python 2.7.10-32-bit) (ground types: python)\n",
        "\n",
        "These commands were executed:\n",
        ">>> from __future__ import division\n",
        ">>> from sympy import *\n",
        ">>> x, y, z, t = symbols('x y z t')\n",
        ">>> k, m, n = symbols('k m n', integer=True)\n",
        ">>> f, g, h = symbols('f g h', cls=Function)\n",
        ">>> init_printing()\n",
        "\n",
        "Documentation can be found at http://www.sympy.org\n"
       ]
      }
     ],
     "prompt_number": 2
    },
    {
     "cell_type": "code",
     "collapsed": false,
     "input": [
      "P, v, R, T, OmegaA, OmegaB, OmegaC, OmegaD, a, b, c,  d, Tc, Pc, alpha = symbols('P, v, R, T, Omega_A, Omega_B, Omega_C, Omega_D, a, b, c, d, T_c, P_c, alpha')\n",
      "Z, Zc = symbols('Z, Z_c')"
     ],
     "language": "python",
     "metadata": {},
     "outputs": [],
     "prompt_number": 3
    },
    {
     "cell_type": "code",
     "collapsed": false,
     "input": [
      "RHS = R*T/(v-b) - a*alpha/(v**2+(d+c)*v-d*c)\n",
      "RHSf = fraction(together(RHS)); nr = RHSf[0]; dr = RHSf[1]*P\n",
      "expr = expand(dr) - expand(nr)\n",
      "expr = collect(expr.subs(v, Z*R*T/P), Z); z3 = expr.coeff(Z, 3); expr = collect(expand(expr/z3),Z); expr\n"
     ],
     "language": "python",
     "metadata": {},
     "outputs": [
      {
       "latex": [
        "$$\\frac{P^{3} b c d}{R^{3} T^{3}} + \\frac{P^{2} c d}{R^{2} T^{2}} - \\frac{P^{2} a \\alpha b}{R^{3} T^{3}} + Z^{3} + Z^{2} \\left(- \\frac{P b}{R T} + \\frac{P c}{R T} + \\frac{P d}{R T} - 1\\right) + Z \\left(- \\frac{P^{2} b c}{R^{2} T^{2}} - \\frac{P^{2} b d}{R^{2} T^{2}} - \\frac{P^{2} c d}{R^{2} T^{2}} - \\frac{P c}{R T} - \\frac{P d}{R T} + \\frac{P a \\alpha}{R^{2} T^{2}}\\right)$$"
       ],
       "metadata": {},
       "output_type": "pyout",
       "png": "[encoded data removed]",
       "prompt_number": 4,
       "text": [
        " 3          2        2                                             \u239b   2      \n",
        "P \u22c5b\u22c5c\u22c5d   P \u22c5c\u22c5d   P \u22c5a\u22c5\u03b1\u22c5b    3    2 \u239b  P\u22c5b   P\u22c5c   P\u22c5d    \u239e     \u239c  P \u22c5b\u22c5c  \n",
        "\u2500\u2500\u2500\u2500\u2500\u2500\u2500\u2500 + \u2500\u2500\u2500\u2500\u2500\u2500 - \u2500\u2500\u2500\u2500\u2500\u2500\u2500\u2500 + Z  + Z \u22c5\u239c- \u2500\u2500\u2500 + \u2500\u2500\u2500 + \u2500\u2500\u2500 - 1\u239f + Z\u22c5\u239c- \u2500\u2500\u2500\u2500\u2500\u2500 -\n",
        "  3  3      2  2      3  3             \u239d  R\u22c5T   R\u22c5T   R\u22c5T    \u23a0     \u239c   2  2   \n",
        " R \u22c5T      R \u22c5T      R \u22c5T                                          \u239d  R \u22c5T    \n",
        "\n",
        "  2        2                        \u239e\n",
        " P \u22c5b\u22c5d   P \u22c5c\u22c5d   P\u22c5c   P\u22c5d   P\u22c5a\u22c5\u03b1\u239f\n",
        " \u2500\u2500\u2500\u2500\u2500\u2500 - \u2500\u2500\u2500\u2500\u2500\u2500 - \u2500\u2500\u2500 - \u2500\u2500\u2500 + \u2500\u2500\u2500\u2500\u2500\u239f\n",
        "  2  2     2  2    R\u22c5T   R\u22c5T    2  2\u239f\n",
        " R \u22c5T     R \u22c5T                 R \u22c5T \u23a0"
       ]
      }
     ],
     "prompt_number": 4
    },
    {
     "cell_type": "markdown",
     "metadata": {},
     "source": [
      "When the critical point is reached, the above expression must have three equal roots.  A cubic with roots $\\alpha, \\beta, \\gamma$ can be written as: $x^3-(\\alpha+\\beta+\\gamma)x^2+(\\alpha\\beta+\\beta\\gamma+\\alpha\\gamma)x-\\alpha\\beta\\gamma$. Hence for three equal roots, the cube root of the negative of the constant coefficient is a root and or the root the negative one third of the coefficient of the quadratic term:"
     ]
    },
    {
     "cell_type": "code",
     "collapsed": false,
     "input": [
      "sumabc = -expr.coeff(Z,2); Eq(3*Zc, sumabc)"
     ],
     "language": "python",
     "metadata": {},
     "outputs": [
      {
       "latex": [
        "$$3 Z_{c} = \\frac{P b}{R T} - \\frac{P c}{R T} - \\frac{P d}{R T} + 1$$"
       ],
       "metadata": {},
       "output_type": "pyout",
       "png": "[encoded data removed]",
       "prompt_number": 5,
       "text": [
        "        P\u22c5b   P\u22c5c   P\u22c5d    \n",
        "3\u22c5Z_c = \u2500\u2500\u2500 - \u2500\u2500\u2500 - \u2500\u2500\u2500 + 1\n",
        "        R\u22c5T   R\u22c5T   R\u22c5T    "
       ]
      }
     ],
     "prompt_number": 5
    },
    {
     "cell_type": "markdown",
     "metadata": {},
     "source": [
      "And product of the roots is cube of Zc:"
     ]
    },
    {
     "cell_type": "code",
     "collapsed": false,
     "input": [
      "prodabc = -expr.coeff(Z, 0); Eq(Zc**3, prodabc)"
     ],
     "language": "python",
     "metadata": {},
     "outputs": [
      {
       "latex": [
        "$$Z_{c}^{3} = - \\frac{P^{3} b c d}{R^{3} T^{3}} - \\frac{P^{2} c d}{R^{2} T^{2}} + \\frac{P^{2} a \\alpha b}{R^{3} T^{3}}$$"
       ],
       "metadata": {},
       "output_type": "pyout",
       "png": "[encoded data removed]",
       "prompt_number": 6,
       "text": [
        "          3          2        2      \n",
        "   3     P \u22c5b\u22c5c\u22c5d   P \u22c5c\u22c5d   P \u22c5a\u22c5\u03b1\u22c5b\n",
        "Z_c  = - \u2500\u2500\u2500\u2500\u2500\u2500\u2500\u2500 - \u2500\u2500\u2500\u2500\u2500\u2500 + \u2500\u2500\u2500\u2500\u2500\u2500\u2500\u2500\n",
        "           3  3      2  2      3  3  \n",
        "          R \u22c5T      R \u22c5T      R \u22c5T   "
       ]
      }
     ],
     "prompt_number": 6
    },
    {
     "cell_type": "code",
     "collapsed": false,
     "input": [
      "pairsumabc = expr.coeff(Z,1); Eq(3*Zc**2, pairsumabc)"
     ],
     "language": "python",
     "metadata": {},
     "outputs": [
      {
       "latex": [
        "$$3 Z_{c}^{2} = - \\frac{P^{2} b c}{R^{2} T^{2}} - \\frac{P^{2} b d}{R^{2} T^{2}} - \\frac{P^{2} c d}{R^{2} T^{2}} - \\frac{P c}{R T} - \\frac{P d}{R T} + \\frac{P a \\alpha}{R^{2} T^{2}}$$"
       ],
       "metadata": {},
       "output_type": "pyout",
       "png": "[encoded data removed]",
       "prompt_number": 7,
       "text": [
        "            2        2        2                        \n",
        "     2     P \u22c5b\u22c5c   P \u22c5b\u22c5d   P \u22c5c\u22c5d   P\u22c5c   P\u22c5d   P\u22c5a\u22c5\u03b1\n",
        "3\u22c5Z_c  = - \u2500\u2500\u2500\u2500\u2500\u2500 - \u2500\u2500\u2500\u2500\u2500\u2500 - \u2500\u2500\u2500\u2500\u2500\u2500 - \u2500\u2500\u2500 - \u2500\u2500\u2500 + \u2500\u2500\u2500\u2500\u2500\n",
        "            2  2     2  2     2  2    R\u22c5T   R\u22c5T    2  2\n",
        "           R \u22c5T     R \u22c5T     R \u22c5T                 R \u22c5T "
       ]
      }
     ],
     "prompt_number": 7
    },
    {
     "cell_type": "markdown",
     "metadata": {},
     "source": [
      "However, since we know that: "
     ]
    },
    {
     "cell_type": "code",
     "collapsed": false,
     "input": [
      "aa = OmegaA*(R*Tc)**2/Pc; Eq(a, aa)"
     ],
     "language": "python",
     "metadata": {},
     "outputs": [
      {
       "latex": [
        "$$a = \\frac{\\Omega_{A} R^{2}}{P_{c}} T_{c}^{2}$$"
       ],
       "metadata": {},
       "output_type": "pyout",
       "png": "[encoded data removed]",
       "prompt_number": 8,
       "text": [
        "         2    2\n",
        "    \u03a9_A\u22c5R \u22c5T_c \n",
        "a = \u2500\u2500\u2500\u2500\u2500\u2500\u2500\u2500\u2500\u2500\u2500\n",
        "        P_c    "
       ]
      }
     ],
     "prompt_number": 8
    },
    {
     "cell_type": "code",
     "collapsed": false,
     "input": [
      "bb = OmegaB*R*Tc/Pc; Eq(b, bb)"
     ],
     "language": "python",
     "metadata": {},
     "outputs": [
      {
       "latex": [
        "$$b = \\frac{\\Omega_{B} R}{P_{c}} T_{c}$$"
       ],
       "metadata": {},
       "output_type": "pyout",
       "png": "[encoded data removed]",
       "prompt_number": 9,
       "text": [
        "    \u03a9_B\u22c5R\u22c5T_c\n",
        "b = \u2500\u2500\u2500\u2500\u2500\u2500\u2500\u2500\u2500\n",
        "       P_c   "
       ]
      }
     ],
     "prompt_number": 9
    },
    {
     "cell_type": "code",
     "collapsed": false,
     "input": [
      "cc = OmegaC*R*Tc/Pc; Eq(c, cc)"
     ],
     "language": "python",
     "metadata": {},
     "outputs": [
      {
       "latex": [
        "$$c = \\frac{\\Omega_{C} R}{P_{c}} T_{c}$$"
       ],
       "metadata": {},
       "output_type": "pyout",
       "png": "[encoded data removed]",
       "prompt_number": 10,
       "text": [
        "    \u03a9_C\u22c5R\u22c5T_c\n",
        "c = \u2500\u2500\u2500\u2500\u2500\u2500\u2500\u2500\u2500\n",
        "       P_c   "
       ]
      }
     ],
     "prompt_number": 10
    },
    {
     "cell_type": "code",
     "collapsed": false,
     "input": [
      "dd = OmegaD*R*Tc/Pc; Eq(d, dd)"
     ],
     "language": "python",
     "metadata": {},
     "outputs": [
      {
       "latex": [
        "$$d = \\frac{\\Omega_{D} R}{P_{c}} T_{c}$$"
       ],
       "metadata": {},
       "output_type": "pyout",
       "png": "[encoded data removed]",
       "prompt_number": 15,
       "text": [
        "    \u03a9_D\u22c5R\u22c5T_c\n",
        "d = \u2500\u2500\u2500\u2500\u2500\u2500\u2500\u2500\u2500\n",
        "       P_c   "
       ]
      }
     ],
     "prompt_number": 15
    },
    {
     "cell_type": "code",
     "collapsed": false,
     "input": [
      "sumabc = sumabc.subs(a, aa).subs(b, bb).subs(c, cc).subs(d, dd); sumabc"
     ],
     "language": "python",
     "metadata": {},
     "outputs": [
      {
       "latex": [
        "$$\\frac{\\Omega_{B} P T_{c}}{P_{c} T} - \\frac{\\Omega_{C} P T_{c}}{P_{c} T} - \\frac{\\Omega_{D} P T_{c}}{P_{c} T} + 1$$"
       ],
       "metadata": {},
       "output_type": "pyout",
       "png": "[encoded data removed]",
       "prompt_number": 12,
       "text": [
        "\u03a9_B\u22c5P\u22c5T_c   \u03a9_C\u22c5P\u22c5T_c   \u03a9_D\u22c5P\u22c5T_c    \n",
        "\u2500\u2500\u2500\u2500\u2500\u2500\u2500\u2500\u2500 - \u2500\u2500\u2500\u2500\u2500\u2500\u2500\u2500\u2500 - \u2500\u2500\u2500\u2500\u2500\u2500\u2500\u2500\u2500 + 1\n",
        "  P_c\u22c5T       P_c\u22c5T       P_c\u22c5T      "
       ]
      }
     ],
     "prompt_number": 12
    },
    {
     "cell_type": "markdown",
     "metadata": {},
     "source": [
      "Hence at the critical point:"
     ]
    },
    {
     "cell_type": "code",
     "collapsed": false,
     "input": [
      "sumabc = sumabc.subs(T, Tc).subs(P, Pc).subs(alpha, 1); sumabc"
     ],
     "language": "python",
     "metadata": {},
     "outputs": [
      {
       "latex": [
        "$$\\Omega_{B} - \\Omega_{C} - \\Omega_{D} + 1$$"
       ],
       "metadata": {},
       "output_type": "pyout",
       "png": "[encoded data removed]",
       "prompt_number": 13,
       "text": [
        "\u03a9_B - \u03a9_C - \u03a9_D + 1"
       ]
      }
     ],
     "prompt_number": 13
    },
    {
     "cell_type": "code",
     "collapsed": false,
     "input": [
      "pairsumabc = pairsumabc.subs(a,aa).subs(b,bb).subs(c,cc).subs(d,dd).subs(T,Tc).subs(P, Pc).subs(alpha, 1); pairsumabc"
     ],
     "language": "python",
     "metadata": {},
     "outputs": [
      {
       "latex": [
        "$$\\Omega_{A} - \\Omega_{B} \\Omega_{C} - \\Omega_{B} \\Omega_{D} - \\Omega_{C} \\Omega_{D} - \\Omega_{C} - \\Omega_{D}$$"
       ],
       "metadata": {},
       "output_type": "pyout",
       "png": "[encoded data removed]",
       "prompt_number": 16,
       "text": [
        "\u03a9_A - \u03a9_B\u22c5\u03a9_C - \u03a9_B\u22c5\u03a9_D - \u03a9_C\u22c5\u03a9_D - \u03a9_C - \u03a9_D"
       ]
      }
     ],
     "prompt_number": 16
    },
    {
     "cell_type": "code",
     "collapsed": false,
     "input": [
      "prodabc = prodabc.subs(a,aa).subs(b,bb).subs(c,cc).subs(d,dd).subs(T,Tc).subs(P, Pc).subs(alpha, 1); prodabc"
     ],
     "language": "python",
     "metadata": {},
     "outputs": [
      {
       "latex": [
        "$$\\Omega_{A} \\Omega_{B} - \\Omega_{B} \\Omega_{C} \\Omega_{D} - \\Omega_{C} \\Omega_{D}$$"
       ],
       "metadata": {},
       "output_type": "pyout",
       "png": "[encoded data removed]",
       "prompt_number": 17,
       "text": [
        "\u03a9_A\u22c5\u03a9_B - \u03a9_B\u22c5\u03a9_C\u22c5\u03a9_D - \u03a9_C\u22c5\u03a9_D"
       ]
      }
     ],
     "prompt_number": 17
    },
    {
     "cell_type": "markdown",
     "metadata": {},
     "source": [
      "Hence, "
     ]
    },
    {
     "cell_type": "code",
     "collapsed": false,
     "input": [
      "Eq(Zc*3, sumabc)"
     ],
     "language": "python",
     "metadata": {},
     "outputs": [
      {
       "latex": [
        "$$3 Z_{c} = \\Omega_{B} - \\Omega_{C} - \\Omega_{D} + 1$$"
       ],
       "metadata": {},
       "output_type": "pyout",
       "png": "[encoded data removed]",
       "prompt_number": 18,
       "text": [
        "3\u22c5Z_c = \u03a9_B - \u03a9_C - \u03a9_D + 1"
       ]
      }
     ],
     "prompt_number": 18
    },
    {
     "cell_type": "markdown",
     "metadata": {},
     "source": [
      "Hence:"
     ]
    },
    {
     "cell_type": "code",
     "collapsed": false,
     "input": [
      "Eq(3*Zc**2, pairsumabc)"
     ],
     "language": "python",
     "metadata": {},
     "outputs": [
      {
       "latex": [
        "$$3 Z_{c}^{2} = \\Omega_{A} - \\Omega_{B} \\Omega_{C} - \\Omega_{B} \\Omega_{D} - \\Omega_{C} \\Omega_{D} - \\Omega_{C} - \\Omega_{D}$$"
       ],
       "metadata": {},
       "output_type": "pyout",
       "png": "[encoded data removed]",
       "prompt_number": 19,
       "text": [
        "     2                                                \n",
        "3\u22c5Z_c  = \u03a9_A - \u03a9_B\u22c5\u03a9_C - \u03a9_B\u22c5\u03a9_D - \u03a9_C\u22c5\u03a9_D - \u03a9_C - \u03a9_D"
       ]
      }
     ],
     "prompt_number": 19
    },
    {
     "cell_type": "code",
     "collapsed": false,
     "input": [
      "Eq(Zc**3, prodabc)"
     ],
     "language": "python",
     "metadata": {},
     "outputs": [
      {
       "latex": [
        "$$Z_{c}^{3} = \\Omega_{A} \\Omega_{B} - \\Omega_{B} \\Omega_{C} \\Omega_{D} - \\Omega_{C} \\Omega_{D}$$"
       ],
       "metadata": {},
       "output_type": "pyout",
       "png": "[encoded data removed]",
       "prompt_number": 20,
       "text": [
        "   3                                  \n",
        "Z_c  = \u03a9_A\u22c5\u03a9_B - \u03a9_B\u22c5\u03a9_C\u22c5\u03a9_D - \u03a9_C\u22c5\u03a9_D"
       ]
      }
     ],
     "prompt_number": 20
    },
    {
     "cell_type": "markdown",
     "metadata": {},
     "source": [
      "Hence,"
     ]
    },
    {
     "cell_type": "code",
     "collapsed": false,
     "input": [
      "omgC = sumabc-3*Zc+OmegaC\n",
      "Eq(OmegaC, omgC)"
     ],
     "language": "python",
     "metadata": {},
     "outputs": [
      {
       "latex": [
        "$$\\Omega_{C} = \\Omega_{B} - \\Omega_{D} - 3 Z_{c} + 1$$"
       ],
       "metadata": {},
       "output_type": "pyout",
       "png": "[encoded data removed]",
       "prompt_number": 21,
       "text": [
        "\u03a9_C = \u03a9_B - \u03a9_D - 3\u22c5Z_c + 1"
       ]
      }
     ],
     "prompt_number": 21
    },
    {
     "cell_type": "markdown",
     "metadata": {},
     "source": [
      "And"
     ]
    },
    {
     "cell_type": "code",
     "collapsed": false,
     "input": [
      "omgA = 3*Zc**2-pairsumabc+OmegaA\n",
      "Eq(OmegaA, omgA)"
     ],
     "language": "python",
     "metadata": {},
     "outputs": [
      {
       "latex": [
        "$$\\Omega_{A} = \\Omega_{B} \\Omega_{C} + \\Omega_{B} \\Omega_{D} + \\Omega_{C} \\Omega_{D} + \\Omega_{C} + \\Omega_{D} + 3 Z_{c}^{2}$$"
       ],
       "metadata": {},
       "output_type": "pyout",
       "png": "[encoded data removed]",
       "prompt_number": 22,
       "text": [
        "                                                     2\n",
        "\u03a9_A = \u03a9_B\u22c5\u03a9_C + \u03a9_B\u22c5\u03a9_D + \u03a9_C\u22c5\u03a9_D + \u03a9_C + \u03a9_D + 3\u22c5Z_c "
       ]
      }
     ],
     "prompt_number": 22
    },
    {
     "cell_type": "markdown",
     "metadata": {},
     "source": [
      "Hence, from the last equation we have the following cubic in $\\Omega_B$."
     ]
    },
    {
     "cell_type": "code",
     "collapsed": false,
     "input": [
      "cubD = prodabc - Zc**3\n",
      "cubD = expand(cubD.subs(OmegaA, omgA).subs(OmegaC, omgC))\n",
      "cubD = collect(cubD, OmegaD)\n",
      "cubD"
     ],
     "language": "python",
     "metadata": {},
     "outputs": [
      {
       "metadata": {},
       "output_type": "pyout",
       "prompt_number": 23,
       "text": [
        "Omega_B**3 - 3*Omega_B**2*Z_c + 2*Omega_B**2 + 3*Omega_B*Z_c**2 - 3*Omega_B*Z_c + Omega_B + Omega_D**2 + Omega_D*(-Omega_B + 3*Z_c - 1) - Z_c**3"
       ]
      }
     ],
     "prompt_number": 23
    },
    {
     "cell_type": "code",
     "collapsed": true,
     "input": [],
     "language": "python",
     "metadata": {},
     "outputs": [],
     "prompt_number": null
    },
    {
     "cell_type": "code",
     "collapsed": true,
     "input": [],
     "language": "python",
     "metadata": {},
     "outputs": [],
     "prompt_number": null
    }
   ],
   "metadata": {}
  }
 ]
}